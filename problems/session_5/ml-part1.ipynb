{
 "cells": [
  {
   "cell_type": "markdown",
   "metadata": {},
   "source": [
    "# Machine Learning Part 1 - Problems"
   ]
  },
  {
   "cell_type": "markdown",
   "metadata": {
    "colab_type": "text",
    "id": "rYYTxll6wm6i"
   },
   "source": [
    "**Author:** Ties de Kok ([Personal Website](https://www.tiesdekok.com))  <br>\n",
    "**Last updated:** September 2022  \n",
    "**Python version:** Python 3.6+     \n",
    "**Recommended environment: `researchPython`**"
   ]
  },
  {
   "cell_type": "code",
   "execution_count": 1,
   "metadata": {},
   "outputs": [],
   "source": [
    "import os\n",
    "recommendedEnvironment = 'researchPython'\n",
    "if os.environ['CONDA_DEFAULT_ENV'] != recommendedEnvironment:\n",
    "    print('Warning: it does not appear you are using the {0} environment, did you run \"conda activate {0}\" before starting Jupyter?'.format(recommendedEnvironment))"
   ]
  },
  {
   "cell_type": "markdown",
   "metadata": {},
   "source": [
    "<div style='border-style: solid; padding: 10px; border-color: black; border-width:5px;  text-align: left; margin-top:20px; margin-bottom: 20px;'>\n",
    "<span style='color:black; font-size: 30px; font-weight:bold;'>Introduction</span>\n",
    "</div>"
   ]
  },
  {
   "cell_type": "markdown",
   "metadata": {
    "colab_type": "text",
    "id": "XDCbIPT4wm6l"
   },
   "source": [
    "<div style='border-style: solid; padding: 5px; border-color: darkred; border-width:5px;  text-align: center; margin-left: 100px; margin-right:100px;'>\n",
    "<span style='color:black; font-size: 20px; font-weight:bold;'> Make sure to open up the respective tutorial notebook(s)! <br> That is what you are expected to use as primariy reference material. </span>\n",
    "</div>"
   ]
  },
  {
   "cell_type": "markdown",
   "metadata": {},
   "source": [
    "### Relevant tutorial notebooks:\n",
    "\n",
    "1) [`0_python_basics.ipynb`](https://nbviewer.jupyter.org/github/TiesdeKok/LearnPythonforResearch/blob/master/0_python_basics.ipynb)  \n",
    "\n",
    "\n",
    "2) [`2_handling_data.ipynb`](https://nbviewer.jupyter.org/github/TiesdeKok/LearnPythonforResearch/blob/master/2_handling_data.ipynb)  \n",
    "\n",
    "\n",
    "3) [`NLP_Notebook.ipynb`](https://nbviewer.jupyter.org/github/TiesdeKok/Python_NLP_Tutorial/blob/master/NLP_Notebook.ipynb)  "
   ]
  },
  {
   "cell_type": "markdown",
   "metadata": {},
   "source": [
    "## Import required packages"
   ]
  },
  {
   "cell_type": "code",
   "execution_count": 2,
   "metadata": {},
   "outputs": [],
   "source": [
    "import os, sys\n",
    "from pathlib import Path\n",
    "import pandas as pd\n",
    "import numpy as np\n",
    "from tqdm.notebook import tqdm"
   ]
  },
  {
   "cell_type": "code",
   "execution_count": 3,
   "metadata": {},
   "outputs": [],
   "source": [
    "from sklearn.model_selection import train_test_split\n",
    "from sklearn.metrics import classification_report\n",
    "from sklearn.model_selection import cross_val_score\n",
    "from sklearn.pipeline import make_pipeline, Pipeline\n",
    "from sklearn.model_selection import GridSearchCV"
   ]
  },
  {
   "cell_type": "code",
   "execution_count": 4,
   "metadata": {},
   "outputs": [],
   "source": [
    "from sklearn.feature_extraction.text import CountVectorizer\n",
    "from sklearn.feature_extraction.text import TfidfVectorizer"
   ]
  },
  {
   "cell_type": "code",
   "execution_count": 5,
   "metadata": {},
   "outputs": [],
   "source": [
    "from sklearn.linear_model import LogisticRegression\n",
    "from sklearn.svm import SVC"
   ]
  },
  {
   "cell_type": "markdown",
   "metadata": {},
   "source": [
    "<div style='border-style: solid; padding: 10px; border-color: black; border-width:5px;  text-align: center; margin-top:20px; margin-bottom: 20px;'>\n",
    "<span style='color:black; font-size: 30px; font-weight:bold;'>Supervised Machine Learning - Basics</span>\n",
    "</div>  \n",
    "\n",
    "<div style='border-style: solid; padding: 5px; border-color: darkred; border-width:5px;  text-align: center; margin-left: 100px; margin-right:100px;'>\n",
    "<span style='color:black; font-size: 15px; font-weight:bold;'> Note: feel free to add as many cells as you'd like to answer these problems, you don't have to fit it all in one cell. </span>\n",
    "</div>"
   ]
  },
  {
   "cell_type": "markdown",
   "metadata": {},
   "source": [
    "For part 1 you will work with a dataset of news article headlines. The original dataset is documented here: http://groups.di.unipi.it/~gulli/AG_corpus_of_news_articles.html.\n",
    "\n",
    "A modified version of the dataset, which are you expected to use, is located here: `data --> news_df.xlsx`.  \n",
    "\n",
    "The modified dataset contains cleaned up news article titles for two categories: *Business* and *Sport*. \n",
    "\n",
    "**Your end goal:** create a machine learning classifier that can identify *Business* headlines from *Sports* headlines. "
   ]
  },
  {
   "cell_type": "markdown",
   "metadata": {},
   "source": [
    "----\n",
    "## 1a) Prepare the data"
   ]
  },
  {
   "cell_type": "markdown",
   "metadata": {},
   "source": [
    "### 1a - i) Load the `news_df` file using Pandas  \n",
    "\n",
    "The file is located here: `data --> news_df.xlsx`"
   ]
  },
  {
   "cell_type": "code",
   "execution_count": null,
   "metadata": {},
   "outputs": [],
   "source": []
  },
  {
   "cell_type": "code",
   "execution_count": null,
   "metadata": {},
   "outputs": [],
   "source": []
  },
  {
   "cell_type": "markdown",
   "metadata": {},
   "source": [
    "### 1a - ii) Drop any rows with missing values in `news_df`"
   ]
  },
  {
   "cell_type": "code",
   "execution_count": null,
   "metadata": {},
   "outputs": [],
   "source": []
  },
  {
   "cell_type": "code",
   "execution_count": null,
   "metadata": {},
   "outputs": [],
   "source": []
  },
  {
   "cell_type": "markdown",
   "metadata": {},
   "source": [
    "### 1a - iii) Show the number of headlines in the sample for each category  \n",
    "\n",
    "Do we have to be worried about an imbalanced classification?"
   ]
  },
  {
   "cell_type": "code",
   "execution_count": null,
   "metadata": {},
   "outputs": [],
   "source": []
  },
  {
   "cell_type": "code",
   "execution_count": null,
   "metadata": {},
   "outputs": [],
   "source": []
  },
  {
   "cell_type": "markdown",
   "metadata": {},
   "source": [
    "### 1a - iiii) Create a new column called `y` that contains a `1` if the category is Business and `0` otherwise "
   ]
  },
  {
   "cell_type": "code",
   "execution_count": null,
   "metadata": {},
   "outputs": [],
   "source": []
  },
  {
   "cell_type": "code",
   "execution_count": null,
   "metadata": {},
   "outputs": [],
   "source": []
  },
  {
   "cell_type": "markdown",
   "metadata": {},
   "source": [
    "----\n",
    "## 1b) Represent the text numerically. \n",
    "\n",
    "We can't feed the text directly into a statistical model as statistical models expect numbers as input.   \n",
    "The solution is to represent the text of every news headline using some type of numerical representation.   \n",
    "\n",
    "For more in-depth details and exlanations, see the \"advanced\" recordings for the NLP session. "
   ]
  },
  {
   "cell_type": "markdown",
   "metadata": {},
   "source": [
    "### 1b - i) Use the `TFIDF` method to represent the `title` numerically\n",
    "\n",
    "I recommend also removing stop words to reduce the number of keywords, which you can direclty through the `TfidfVectorizer` function (check the documentation!). \n",
    "\n",
    "**Documentation:** https://scikit-learn.org/stable/modules/generated/sklearn.feature_extraction.text.TfidfVectorizer.html"
   ]
  },
  {
   "cell_type": "code",
   "execution_count": null,
   "metadata": {},
   "outputs": [],
   "source": []
  },
  {
   "cell_type": "code",
   "execution_count": null,
   "metadata": {},
   "outputs": [],
   "source": []
  },
  {
   "cell_type": "markdown",
   "metadata": {},
   "source": [
    "### 1b - ii) What do we end up with?\n",
    "\n",
    "Run `tfidf.shape` and explain (in writing) what the result means."
   ]
  },
  {
   "cell_type": "code",
   "execution_count": null,
   "metadata": {},
   "outputs": [],
   "source": []
  },
  {
   "cell_type": "code",
   "execution_count": null,
   "metadata": {},
   "outputs": [],
   "source": []
  },
  {
   "cell_type": "markdown",
   "metadata": {},
   "source": [
    "### 1b - iii) Explore the numerical conversion.\n",
    "\n",
    "Expressing a piece of text numerically in itself is easy, however, doing it properly in a way that is meaningful is challenging. \n",
    "\n",
    "So it is good to apply some common sense with these types of conversation and look at some examples to see whether things make sense. \n",
    "\n",
    "Below I present you with some code that shows you for a given sentence what the numerical values are that represent that sentence. \n",
    "\n",
    "**Task:** Provide a short evaluation of things you observe based on the numerical values below. \n",
    "\n",
    "Examples of things to address:\n",
    "\n",
    "1. Why do some words have higher number relative to others?   \n",
    "2. Why are some words not shown here?"
   ]
  },
  {
   "cell_type": "code",
   "execution_count": 14,
   "metadata": {
    "tags": []
   },
   "outputs": [
    {
     "name": "stdout",
     "output_type": "stream",
     "text": [
      "        barrage: 0.3635\n",
      "    earthquakes: 0.3283\n",
      "           goal: 0.5011\n",
      "           jose: 0.3100\n",
      "        machine: 0.3217\n",
      "         record: 0.1875\n",
      "            san: 0.2521\n",
      "        seattle: 0.2584\n",
      "        setting: 0.3145\n",
      "             vs: 0.2122\n"
     ]
    }
   ],
   "source": [
    "sentences = [\n",
    "    'Seattle Sounders go on record-setting goal barrage vs San Jose Earthquakes, Fredy Montero is a goal machine!'\n",
    "]\n",
    "\n",
    "feature_names = transformer.get_feature_names_out()\n",
    "\n",
    "for sen_item in transformer.transform(sentences).toarray():\n",
    "    for i, value in enumerate(sen_item):\n",
    "        if value > 0:\n",
    "            print(f'''{feature_names[i]:>15}: {value:.4f}''')"
   ]
  },
  {
   "cell_type": "code",
   "execution_count": null,
   "metadata": {},
   "outputs": [],
   "source": []
  },
  {
   "cell_type": "code",
   "execution_count": null,
   "metadata": {},
   "outputs": [],
   "source": []
  },
  {
   "cell_type": "markdown",
   "metadata": {},
   "source": [
    "----\n",
    "## 1c) Create a train / test split"
   ]
  },
  {
   "cell_type": "markdown",
   "metadata": {},
   "source": [
    "### 1c i) Create a train - test  split using `train_test_split` with a test size of `0.33`.  \n",
    "\n",
    "**Note:** to ensure an equal distribution of 1 and 0 between the train / test samples I recommend to use the `stratify` parameter to stratify on the Y column."
   ]
  },
  {
   "cell_type": "code",
   "execution_count": null,
   "metadata": {},
   "outputs": [],
   "source": []
  },
  {
   "cell_type": "code",
   "execution_count": null,
   "metadata": {},
   "outputs": [],
   "source": []
  },
  {
   "cell_type": "markdown",
   "metadata": {},
   "source": [
    "----\n",
    "### 1c ii) How many observations do you have in your train and test samples?"
   ]
  },
  {
   "cell_type": "code",
   "execution_count": null,
   "metadata": {},
   "outputs": [],
   "source": []
  },
  {
   "cell_type": "code",
   "execution_count": null,
   "metadata": {},
   "outputs": [],
   "source": []
  },
  {
   "cell_type": "markdown",
   "metadata": {
    "tags": []
   },
   "source": [
    "## 1d) Run a basic logistic regression  \n",
    "\n",
    "https://scikit-learn.org/stable/modules/generated/sklearn.linear_model.LogisticRegression.html"
   ]
  },
  {
   "cell_type": "markdown",
   "metadata": {},
   "source": [
    "### 1d - i) Train the logistic regression with the default parameters\n",
    "\n",
    "**Tip:** you might have to add `max_iter=1000` to make sure the model converges (you'll get a warning otherwise). \n",
    "\n",
    "**Reminder:** you train the model based on the training data created in step 1c. "
   ]
  },
  {
   "cell_type": "code",
   "execution_count": null,
   "metadata": {},
   "outputs": [],
   "source": []
  },
  {
   "cell_type": "code",
   "execution_count": null,
   "metadata": {},
   "outputs": [],
   "source": []
  },
  {
   "attachments": {
    "image.png": {
     "image/png": "[encoded data removed]"
    }
   },
   "cell_type": "markdown",
   "metadata": {},
   "source": [
    "----\n",
    "### 1d - ii) Show the classification report  \n",
    "https://scikit-learn.org/stable/modules/generated/sklearn.metrics.classification_report.html  \n",
    "\n",
    "**Hint 1:** You will first have to predict y based on the X data in your *test* sample.  \n",
    "**Hint 2:** You will want to compare the true y values for the *test* sample with the predicted y values for the test sample. \n",
    "\n",
    "You should see something like this:\n",
    "\n",
    "![image.png](attachment:image.png)"
   ]
  },
  {
   "cell_type": "code",
   "execution_count": null,
   "metadata": {},
   "outputs": [],
   "source": []
  },
  {
   "cell_type": "code",
   "execution_count": null,
   "metadata": {},
   "outputs": [],
   "source": []
  },
  {
   "cell_type": "markdown",
   "metadata": {},
   "source": [
    "### 1d - iii) Validate your LogisticRegression using 5 fold cross validation.  \n",
    "\n",
    "Use `cross_val_score` with 5 folds, your scoring metric should be `f1_macro`.\n",
    "\n",
    "**Question:** does the `f1_macro` reported in `1d-ii` hold up with cross validation?\n",
    "\n",
    "See: https://scikit-learn.org/stable/modules/cross_validation.html#computing-cross-validated-metrics"
   ]
  },
  {
   "cell_type": "code",
   "execution_count": null,
   "metadata": {},
   "outputs": [],
   "source": []
  },
  {
   "cell_type": "code",
   "execution_count": null,
   "metadata": {},
   "outputs": [],
   "source": []
  },
  {
   "cell_type": "markdown",
   "metadata": {},
   "source": [
    "<div style='border-style: solid; padding: 10px; border-color: black; border-width:5px;  text-align: center; margin-top:20px; margin-bottom: 20px;'>\n",
    "<span style='color:black; font-size: 30px; font-weight:bold;'>Supervised Machine Learning - Advanced</span>\n",
    "</div>  \n",
    "\n",
    "For all intents and purposes, we've \"done machine learning\" in the steps above, however, I convenienty skipped over a few parts of a typical ML pipeline that are a bit more advanced. \n",
    "\n",
    "Specifically:\n",
    "\n",
    "- Hyperparameters  \n",
    "- Formalizing your ML workflow into a \"pipeline\"\n",
    "- Attempting to understand why the model makes the predictions that it does\n",
    "\n",
    "You'll work on these elements in the problems below (using the same `news_df` dataset)."
   ]
  },
  {
   "cell_type": "markdown",
   "metadata": {
    "tags": []
   },
   "source": [
    "----\n",
    "## 2a) Create a machine learning pipeline with the `TFIDF` vectorizer and the `SVC` model\n",
    "\n",
    "**What is a pipeline?**\n",
    "\n",
    "The objective of a pipeline is to formalize the steps of your machine learning workflow before running it, such that you can have it all run in a single go (instead of having to run them each step by step yourself).\n",
    "\n",
    "This is beneficial for a few reasons:  \n",
    "\n",
    "1. It makes it possible to do hyper parameter optimization for all parts of your pipeline at once.  \n",
    "2. It gives you a single function that you can use to make predictions for out of sample documents.  \n",
    "3. In certain scenarios, there might be performance benefits. \n",
    "\n",
    "In our case, we have two primary steps:\n",
    "\n",
    "- Step 1: convert the text to a vector using `TFIDF`  \n",
    "- Step 2: use the `TFIDF` vectors to predict Y using a model of our choice\n",
    "\n",
    "**Task:** Create a scikit learn pipeline that performs these two steps.\n",
    "\n",
    "*Note 1:* You can use `Pipeline` or `make_pipeline`, whatever you prefer.   \n",
    "\n",
    "Useful references:\n",
    "\n",
    "- https://scikit-learn.org/stable/modules/generated/sklearn.pipeline.make_pipeline.html#sklearn.pipeline.make_pipeline\n",
    "- https://scikit-learn.org/stable/modules/generated/sklearn.svm.SVC.html\n",
    "\n",
    "**Important:** make sure to include `probability = True` in your `SVC` function as you will need it later!"
   ]
  },
  {
   "cell_type": "code",
   "execution_count": null,
   "metadata": {},
   "outputs": [],
   "source": []
  },
  {
   "cell_type": "code",
   "execution_count": null,
   "metadata": {},
   "outputs": [],
   "source": []
  },
  {
   "cell_type": "markdown",
   "metadata": {},
   "source": [
    "---\n",
    "## 2b) Create a new train-test split for a smaller subsample\n",
    "\n",
    "Training the `SVC` model is substantially slower relative to a logistic regression. So to avoid you from having to wait around for training to finish while solving these problems, I suggest that you:\n",
    "\n",
    "1. Draw a random sample of 20,000 headlines from the `news_df` dataset using Pandas    \n",
    "2. Create a new set of train-test split subsamples based on the reduced sample.   "
   ]
  },
  {
   "cell_type": "code",
   "execution_count": null,
   "metadata": {},
   "outputs": [],
   "source": []
  },
  {
   "cell_type": "code",
   "execution_count": null,
   "metadata": {},
   "outputs": [],
   "source": []
  },
  {
   "cell_type": "markdown",
   "metadata": {},
   "source": [
    "---\n",
    "## 2c) Train the `SVC` model with the default hyperparameters"
   ]
  },
  {
   "cell_type": "markdown",
   "metadata": {},
   "source": [
    "### 2c - i) Train the `SVC` model on your training data\n",
    "\n",
    "*Pro-tip:* you can put `%%time` at the start of the cell if you want to keep track of how long a cell took to run."
   ]
  },
  {
   "cell_type": "code",
   "execution_count": null,
   "metadata": {},
   "outputs": [],
   "source": []
  },
  {
   "cell_type": "code",
   "execution_count": null,
   "metadata": {},
   "outputs": [],
   "source": []
  },
  {
   "cell_type": "markdown",
   "metadata": {},
   "source": [
    "### 2d ii) Show the classification report for the evaluation data"
   ]
  },
  {
   "cell_type": "code",
   "execution_count": null,
   "metadata": {},
   "outputs": [],
   "source": []
  },
  {
   "cell_type": "code",
   "execution_count": null,
   "metadata": {},
   "outputs": [],
   "source": []
  },
  {
   "cell_type": "markdown",
   "metadata": {},
   "source": [
    "## 2c) Train the `SVC` model with hyper parameter optimization\n",
    "\n",
    "You can optimize any parameter that feeds into a function that is part of your pipeline. \n",
    "\n",
    "Which in our case is `tfidf` and `svc`:  \n",
    "\n",
    "- https://scikit-learn.org/stable/modules/generated/sklearn.feature_extraction.text.TfidfVectorizer.html\n",
    "- https://scikit-learn.org/stable/modules/generated/sklearn.svm.SVC.html\n",
    "\n",
    "There are many ways of doing hyper-parameter optimization, but in essence it boils down to \"try a bunch of different combinations and find the combinations that yields the best performance\". This is simply enough in practice, but the number of combinations once you start adding parameters because extremely large real fast. \n",
    "\n",
    "For our purposes, let's say we want to try the following combinations:\n",
    "\n",
    "- `tfidf`: removing stopwords vs. not removing stopwords   \n",
    "- `svc`: *gamma* parameter --> 0.001 vs. 'scale'\n",
    "- `svc`: *C* parameter --> 1.0\n",
    "- `svc`: using the *rbf* kernel.\n",
    "\n",
    "We'll obvioulsy need to express this in a way that Python / Scikit learn can understand:\n",
    "\n",
    "```python\n",
    "param_grid = {\n",
    "    'tfidfvectorizer__stop_words': ['english', None],\n",
    "    'svc__C': [1],\n",
    "    'svc__gamma': [0.001, 'scale'],\n",
    "    'svc__kernel' : ['rbf']\n",
    "}\n",
    "```\n",
    "\n",
    "**Important note:** You need to make sure that these parameters in your grid are not already specific when you created your pipeline, otherwise it will give an error!"
   ]
  },
  {
   "cell_type": "markdown",
   "metadata": {
    "tags": []
   },
   "source": [
    "### 2c - i) Perform the hyper-parameter optimization using `GridSearchCV`\n",
    "https://scikit-learn.org/stable/modules/generated/sklearn.model_selection.GridSearchCV.html\n",
    "\n",
    "You can use the the `param_grid` that is show in the example above.\n",
    "\n",
    "**Warning:** This might take some minutes to complete, that is normal. With a single thread (i.e. without `n_jobs=-1`) it will likely take between 3.5 to 5 minutes. You can try setting `n_jobs=-1` in the `GridSearchCV` function to speed the gridsearch up, this will use all the processing threads in your computer instead of only 1.\n",
    "\n",
    "**Note:** For consistency sake, I recommend setting the scoring options in `GridSearchCV` to 'f1_macro'."
   ]
  },
  {
   "cell_type": "code",
   "execution_count": null,
   "metadata": {},
   "outputs": [],
   "source": []
  },
  {
   "cell_type": "code",
   "execution_count": null,
   "metadata": {},
   "outputs": [],
   "source": []
  },
  {
   "cell_type": "markdown",
   "metadata": {
    "tags": []
   },
   "source": [
    "### 2c - ii) What are the best performing parameters?"
   ]
  },
  {
   "cell_type": "code",
   "execution_count": null,
   "metadata": {},
   "outputs": [],
   "source": []
  },
  {
   "cell_type": "code",
   "execution_count": null,
   "metadata": {},
   "outputs": [],
   "source": []
  },
  {
   "cell_type": "markdown",
   "metadata": {
    "tags": []
   },
   "source": [
    "### 2c - iii) How well did the best performing model perform on the test data?"
   ]
  },
  {
   "cell_type": "code",
   "execution_count": null,
   "metadata": {},
   "outputs": [],
   "source": []
  },
  {
   "cell_type": "code",
   "execution_count": null,
   "metadata": {},
   "outputs": [],
   "source": []
  },
  {
   "cell_type": "markdown",
   "metadata": {},
   "source": [
    "---\n",
    "## 2d) Apply our new pipeline to make predictions\n",
    "\n",
    "You can directly us the model/pipeline that came out of your `GridSearchCV` here"
   ]
  },
  {
   "cell_type": "markdown",
   "metadata": {},
   "source": [
    "### 2d - i) Create a prediction for the following out-of-sample sentences:   \n",
    "```python\n",
    "sentences = ['The market cap of Apple recently surpassed 2 trillion dollars.', \n",
    "             'Seattle Sounders go on record-setting goal barrage vs San Jose Earthquakes.']\n",
    "```"
   ]
  },
  {
   "cell_type": "code",
   "execution_count": null,
   "metadata": {},
   "outputs": [],
   "source": []
  },
  {
   "cell_type": "code",
   "execution_count": null,
   "metadata": {},
   "outputs": [],
   "source": []
  },
  {
   "cell_type": "markdown",
   "metadata": {},
   "source": [
    "### 2d - ii) Repeat 2d -i but instead of showing 0 / 1 show the probability that a sentence is 1"
   ]
  },
  {
   "cell_type": "code",
   "execution_count": null,
   "metadata": {},
   "outputs": [],
   "source": []
  },
  {
   "cell_type": "code",
   "execution_count": null,
   "metadata": {},
   "outputs": [],
   "source": []
  },
  {
   "attachments": {
    "24f3dc51-1214-4037-ac17-0fa7b795afe1.png": {
     "image/png": "[encoded data removed]"
    }
   },
   "cell_type": "markdown",
   "metadata": {},
   "source": [
    "### 2d - iii) Use `lime` to explain what the model is doing   \n",
    "\n",
    "For this we will use the `LIME` library, which is not included in the `environment.yml` file.   \n",
    "I left it out on purpose so that you can get some experience with installing packages you might encounter online. \n",
    "\n",
    "You can read up on it here: https://github.com/marcotcr/lime\n",
    "\n",
    "You can install `lime` by following these steps:\n",
    "\n",
    "1. Open up your Anaconda prompt / terminal  \n",
    "2. Activate the `researchPython` environment  \n",
    "3. Run `pip install lime`  \n",
    "4. Import lime into the notebook (see below):\n",
    "\n",
    "```python\n",
    "from lime.lime_text import LimeTextExplainer\n",
    "```\n",
    "\n",
    "**Your task:** recreate the illustration below for the two out-of-sample sentences from the previous step. Include a brief discussion regarding whether what you are seeing is increasing or decreasing your confidence in the models' predictions.\n",
    "\n",
    "**Hint:** https://marcotcr.github.io/lime/tutorials/Lime%20-%20basic%20usage%2C%20two%20class%20case.html\n",
    "\n",
    "![image.png](attachment:24f3dc51-1214-4037-ac17-0fa7b795afe1.png)"
   ]
  },
  {
   "cell_type": "code",
   "execution_count": 35,
   "metadata": {},
   "outputs": [],
   "source": [
    "from lime.lime_text import LimeTextExplainer"
   ]
  },
  {
   "cell_type": "code",
   "execution_count": null,
   "metadata": {},
   "outputs": [],
   "source": []
  },
  {
   "cell_type": "code",
   "execution_count": null,
   "metadata": {},
   "outputs": [],
   "source": []
  }
 ],
 "metadata": {
  "kernelspec": {
   "display_name": "Python 3 (ipykernel)",
   "language": "python",
   "name": "python3"
  },
  "language_info": {
   "codemirror_mode": {
    "name": "ipython",
    "version": 3
   },
   "file_extension": ".py",
   "mimetype": "text/x-python",
   "name": "python",
   "nbconvert_exporter": "python",
   "pygments_lexer": "ipython3",
   "version": "3.9.13"
  }
 },
 "nbformat": 4,
 "nbformat_minor": 4
}
