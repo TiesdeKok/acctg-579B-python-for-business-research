{
 "cells": [
  {
   "cell_type": "markdown",
   "metadata": {},
   "source": [
    "# Pandas - Problems"
   ]
  },
  {
   "cell_type": "markdown",
   "metadata": {
    "colab_type": "text",
    "id": "rYYTxll6wm6i"
   },
   "source": [
    "**Author:** Ties de Kok ([Personal Website](https://www.tiesdekok.com))  <br>\n",
    "**Last updated:** September 2022  \n",
    "**Python version:** Python 3.6+     \n",
    "**License:** MIT License  \n",
    "**Recommended environment: `researchPython`**"
   ]
  },
  {
   "cell_type": "code",
   "execution_count": 1,
   "metadata": {},
   "outputs": [],
   "source": [
    "import os\n",
    "recommendedEnvironment = 'researchPython'\n",
    "if os.environ['CONDA_DEFAULT_ENV'] != recommendedEnvironment:\n",
    "    print('Warning: it does not appear you are using the {0} environment, did you run \"conda activate {0}\" before starting Jupyter?'.format(recommendedEnvironment))"
   ]
  },
  {
   "cell_type": "markdown",
   "metadata": {},
   "source": [
    "<div style='border-style: solid; padding: 10px; border-color: black; border-width:5px;  text-align: left; margin-top:20px; margin-bottom: 20px;'>\n",
    "<span style='color:black; font-size: 30px; font-weight:bold;'>Introduction</span>\n",
    "</div>"
   ]
  },
  {
   "cell_type": "markdown",
   "metadata": {
    "colab_type": "text",
    "id": "XDCbIPT4wm6l"
   },
   "source": [
    "<div style='border-style: solid; padding: 5px; border-color: darkred; border-width:5px;  text-align: center; margin-left: 100px; margin-right:100px;'>\n",
    "<span style='color:black; font-size: 20px; font-weight:bold;'> Make sure to open up the respective tutorial notebook(s)! <br> That is what you are expected to use as primary reference material. </span>\n",
    "</div>"
   ]
  },
  {
   "cell_type": "markdown",
   "metadata": {},
   "source": [
    "### Relevant tutorial notebooks:\n",
    "\n",
    "1) [`0_python_basics.ipynb`](https://nbviewer.jupyter.org/github/TiesdeKok/LearnPythonforResearch/blob/master/0_python_basics.ipynb)  \n",
    "\n",
    "\n",
    "2) [`1_opening_files.ipynb`](https://nbviewer.jupyter.org/github/TiesdeKok/LearnPythonforResearch/blob/master/1_opening_files.ipynb)  \n",
    "\n",
    "\n",
    "3) [`2_handling_data.ipynb`](https://nbviewer.jupyter.org/github/TiesdeKok/LearnPythonforResearch/blob/master/2_handling_data.ipynb)  \n",
    "\n",
    "\n",
    "4) [`3_visualizing_data.ipynb`](https://nbviewer.jupyter.org/github/TiesdeKok/LearnPythonforResearch/blob/master/3_visualizing_data.ipynb)  "
   ]
  },
  {
   "cell_type": "markdown",
   "metadata": {},
   "source": [
    "<div style='border-style: solid; padding: 10px; border-color: black; border-width:5px;  text-align: center; margin-top:20px; margin-bottom: 20px;'>\n",
    "<span style='color:black; font-size: 30px; font-weight:bold;'>Part 1 </span>\n",
    "</div>  \n",
    "\n",
    "<div style='border-style: solid; padding: 5px; border-color: darkred; border-width:5px;  text-align: center; margin-left: 100px; margin-right:100px;'>\n",
    "<span style='color:black; font-size: 15px; font-weight:bold;'> Note: feel free to add as many cells as you'd like to answer these problems, you don't have to fit it all in one cell. </span>\n",
    "</div>"
   ]
  },
  {
   "cell_type": "markdown",
   "metadata": {},
   "source": [
    "The tasks below will use two datasets that are retrieved from the \"City of Seattle Open Data portal\":   \n",
    "\n",
    "\n",
    "* [SPD Crime Data: 2008-Present](https://data.seattle.gov/Public-Safety/SPD-Crime-Data-2008-Present/tazs-3rd5)\n",
    "\n",
    "* [Use Of Force](https://data.seattle.gov/Public-Safety/Use-Of-Force/ppi5-g2bj)\n",
    "\n",
    "You don't need to download these files yourself, I've provided them for you in the `day_2 > data` folder.   \n",
    "I've reduced the crime data file to just the year 2019 to keep the number of rows more managable.\n",
    "\n",
    "Both files contain crime and police data at the \"Beats\" geographical level.  \n",
    "For more information on what a \"Beat\" is, see this webpage: [Tweets by Beat](https://www.seattle.gov/police/information-and-data/tweets-by-beat)\n"
   ]
  },
  {
   "cell_type": "markdown",
   "metadata": {},
   "source": [
    "### Import required packages"
   ]
  },
  {
   "cell_type": "code",
   "execution_count": 2,
   "metadata": {},
   "outputs": [
    {
     "name": "stdout",
     "output_type": "stream",
     "text": [
      "Populating the interactive namespace from numpy and matplotlib\n"
     ]
    }
   ],
   "source": [
    "%pylab inline"
   ]
  },
  {
   "cell_type": "code",
   "execution_count": 3,
   "metadata": {},
   "outputs": [],
   "source": [
    "import os\n",
    "import pandas as pd\n",
    "from pathlib import Path\n",
    "import numpy as np"
   ]
  },
  {
   "cell_type": "markdown",
   "metadata": {},
   "source": [
    "### A note on `pathlib`  \n",
    "\n",
    "`pathlib` was introduced in Python 3.4 and is the preferred way of dealing with file paths when using Python 3.4+. \n",
    "\n",
    "You can get the current working directory using `Path.cwd()`. \n",
    "\n",
    "You can define a path to a file or folder by seperating every folder/filder with `/`, for example:\n",
    "\n",
    "`Path.cwd() / 'data' / 'SPD_Crime_Data_2019 [June 2020].csv'`\n",
    "\n",
    "This is preferred over just putting the whole path in a string (like below) because it helps avoid conflicts between Windows, Mac OS, and Linux. \n",
    "```python\n",
    "path_in_string = 'data/SPD_Crime_Data_2019 [June 2020].csv' ## <-- avoid!\n",
    "\n",
    "## Instead use pathlib:\n",
    "\n",
    "data_folder = Path.cwd() / 'data'\n",
    "path_to_csv = data_folder / 'SPD_Crime_Data_2019 [June 2020].csv'\n",
    "```"
   ]
  },
  {
   "cell_type": "markdown",
   "metadata": {},
   "source": [
    "### Load both datasets\n",
    "There are two `.csv` files located in the \"data\" folder:\n",
    "1. `SPD_Crime_Data_2019 [June 2020].csv` --> assign to the variable: `crime_df`\n",
    "2. `Use_Of_Force [June 2020].csv`--> assign to the variable: `force_df`"
   ]
  },
  {
   "cell_type": "code",
   "execution_count": null,
   "metadata": {},
   "outputs": [],
   "source": []
  },
  {
   "cell_type": "markdown",
   "metadata": {},
   "source": [
    "### Print the amount of rows for each dataframe"
   ]
  },
  {
   "cell_type": "code",
   "execution_count": null,
   "metadata": {},
   "outputs": [],
   "source": []
  },
  {
   "cell_type": "markdown",
   "metadata": {},
   "source": [
    "### Show the first three observations for each dataframe"
   ]
  },
  {
   "cell_type": "code",
   "execution_count": null,
   "metadata": {},
   "outputs": [],
   "source": []
  },
  {
   "cell_type": "markdown",
   "metadata": {},
   "source": [
    "### Save the first 100 rows of the `crime_df` dataframe as an Excel file called \"crime_df_100.xlsx\"\n",
    "You can just save it to the current working directory"
   ]
  },
  {
   "cell_type": "code",
   "execution_count": null,
   "metadata": {},
   "outputs": [],
   "source": []
  },
  {
   "cell_type": "markdown",
   "metadata": {},
   "source": [
    "<div style='border-style: solid; padding: 10px; border-color: darkred; border-width:5px;  text-align: left; margin-top: 20px; margin-bottom: 20px;'>\n",
    "<span style='color:black; font-size: 25px; font-weight:bold;'> The below only applies to the `crime_df` dataset. </span>\n",
    "</div>"
   ]
  },
  {
   "cell_type": "markdown",
   "metadata": {},
   "source": [
    "### Only show the `Report DateTime` column"
   ]
  },
  {
   "cell_type": "code",
   "execution_count": null,
   "metadata": {},
   "outputs": [],
   "source": []
  },
  {
   "cell_type": "markdown",
   "metadata": {},
   "source": [
    "### Generate a dataframe with only the `Report DateTime` and `Crime Against Category` columns"
   ]
  },
  {
   "cell_type": "code",
   "execution_count": null,
   "metadata": {},
   "outputs": [],
   "source": []
  },
  {
   "cell_type": "markdown",
   "metadata": {},
   "source": [
    "### Generate a new column called `Person` that contains the value True if the `Crime Against Category` is \"PERSON\" else False"
   ]
  },
  {
   "cell_type": "markdown",
   "metadata": {},
   "source": [
    "I recommend to verify that it worked by only showing a dataframe with the new column and the `Crime Against Category` column.   \n",
    "\n",
    "Use `.sample(10)` to generate a random sample of 10 rows."
   ]
  },
  {
   "cell_type": "code",
   "execution_count": null,
   "metadata": {},
   "outputs": [],
   "source": []
  },
  {
   "cell_type": "markdown",
   "metadata": {},
   "source": [
    "### Count the number of True values in the `Person` column"
   ]
  },
  {
   "cell_type": "code",
   "execution_count": null,
   "metadata": {},
   "outputs": [],
   "source": []
  },
  {
   "cell_type": "markdown",
   "metadata": {},
   "source": [
    "### Generate a dataframe with only \"FRAUD OFFENSES\" offenses   \n",
    "Use the `Offense Parent Group` column."
   ]
  },
  {
   "cell_type": "code",
   "execution_count": null,
   "metadata": {},
   "outputs": [],
   "source": []
  },
  {
   "cell_type": "markdown",
   "metadata": {},
   "source": [
    "### Generate a dataframe with only \"FRAUD OFFENSES\" that occured in Sector \"J\"   \n",
    "Use the `Offense Parent Group` column."
   ]
  },
  {
   "cell_type": "code",
   "execution_count": null,
   "metadata": {},
   "outputs": [],
   "source": []
  },
  {
   "cell_type": "markdown",
   "metadata": {},
   "source": [
    "### Count the amount of fraud incidents by `MCPP` \n",
    "Use the dataframe that you just created (i.e. FRAUD OFFENSES in Sector J)  "
   ]
  },
  {
   "cell_type": "code",
   "execution_count": null,
   "metadata": {},
   "outputs": [],
   "source": []
  },
  {
   "cell_type": "markdown",
   "metadata": {},
   "source": [
    "### Generate a dataframe with only \"Shoplifting\", \"Robbery\", or \"Motor Vehicle Theft\" crimes   \n",
    "Use the `Offense` column.   \n",
    "*Hint:* use the `.isin()` operator"
   ]
  },
  {
   "cell_type": "code",
   "execution_count": null,
   "metadata": {},
   "outputs": [],
   "source": []
  },
  {
   "cell_type": "markdown",
   "metadata": {},
   "source": [
    "### Generate a new column called `OffenseShort` which contains only the first three letters of `Offense`:   \n",
    "Please solve this using two different methods:"
   ]
  },
  {
   "cell_type": "markdown",
   "metadata": {},
   "source": [
    "#### Method 1: use the `.apply(lambda x: x....)` operation"
   ]
  },
  {
   "cell_type": "code",
   "execution_count": null,
   "metadata": {},
   "outputs": [],
   "source": []
  },
  {
   "cell_type": "markdown",
   "metadata": {},
   "source": [
    "#### Method 2: use a `.str.` operation  \n",
    "*Tip:* type `crime_df.Offense.str.` and press 'tab', this will open up all the available options.   "
   ]
  },
  {
   "cell_type": "code",
   "execution_count": null,
   "metadata": {},
   "outputs": [],
   "source": []
  },
  {
   "cell_type": "markdown",
   "metadata": {},
   "source": [
    "### Show the number of offenses per `Offense Parent Group` type   "
   ]
  },
  {
   "cell_type": "code",
   "execution_count": null,
   "metadata": {},
   "outputs": [],
   "source": []
  },
  {
   "cell_type": "markdown",
   "metadata": {},
   "source": [
    "### Create a bar chart showing the number of offenses per `Offense Parent Group` type   \n",
    "*Hint 1:* use the `.plot(kind='bar', figsize=(10,5))` function  "
   ]
  },
  {
   "cell_type": "code",
   "execution_count": null,
   "metadata": {},
   "outputs": [],
   "source": []
  },
  {
   "cell_type": "markdown",
   "metadata": {},
   "source": [
    "## Save your `crime_df` dataframe to a Stata file   \n",
    "\n",
    "Note: you might get an error that looks something like this:\n",
    "> InvalidColumnName: \n",
    "Not all pandas column names were valid Stata variable names.\n",
    "The following replacements have been made:\n",
    "\n",
    "This is a warning, not an error, and you can ignore it.   \n",
    "It warns you that Stata does not allow column names with a space in them so Pandas automatically generated a column name with an underscore (\\_) to resolve this."
   ]
  },
  {
   "cell_type": "code",
   "execution_count": null,
   "metadata": {},
   "outputs": [],
   "source": []
  },
  {
   "cell_type": "markdown",
   "metadata": {},
   "source": [
    "<div style='border-style: solid; padding: 10px; border-color: black; border-width:5px;  text-align: left; margin-top:20px; margin-bottom: 20px;'>\n",
    "<span style='color:black; font-size: 30px; font-weight:bold;'>Part 2: Advanced Funcionality</span>\n",
    "</div>"
   ]
  },
  {
   "cell_type": "markdown",
   "metadata": {},
   "source": [
    "### Convert the `Report DateTime` column to the `datetime64[ns]` dtype and overwrite the column"
   ]
  },
  {
   "cell_type": "markdown",
   "metadata": {},
   "source": [
    "Verify that it worked by running `crime_df.dtypes`"
   ]
  },
  {
   "cell_type": "code",
   "execution_count": null,
   "metadata": {},
   "outputs": [],
   "source": []
  },
  {
   "cell_type": "markdown",
   "metadata": {},
   "source": [
    "### Create a new column called `report_month` with the month that the crime was reported   \n",
    "It is fine if the month is represented numerically (i.e. \"January\" is 1, \"February\" is 2)."
   ]
  },
  {
   "cell_type": "code",
   "execution_count": null,
   "metadata": {},
   "outputs": [],
   "source": []
  },
  {
   "cell_type": "markdown",
   "metadata": {},
   "source": [
    "### What month of 2019 has seen the most crimes reported?  \n",
    "Solve using two methods:   "
   ]
  },
  {
   "cell_type": "markdown",
   "metadata": {},
   "source": [
    "#### Method 1: use `.value_counts()`"
   ]
  },
  {
   "cell_type": "code",
   "execution_count": null,
   "metadata": {},
   "outputs": [],
   "source": []
  },
  {
   "cell_type": "markdown",
   "metadata": {},
   "source": [
    "#### Method 2: use `.groupby().size()`"
   ]
  },
  {
   "cell_type": "code",
   "execution_count": null,
   "metadata": {},
   "outputs": [],
   "source": []
  },
  {
   "cell_type": "markdown",
   "metadata": {},
   "source": [
    "### Create a pie chart with the distribution of crimes per month"
   ]
  },
  {
   "cell_type": "markdown",
   "metadata": {},
   "source": [
    "*Tip:* you can sort a Pandas series object by index by using `.sort_index()`"
   ]
  },
  {
   "cell_type": "code",
   "execution_count": null,
   "metadata": {},
   "outputs": [],
   "source": []
  },
  {
   "cell_type": "markdown",
   "metadata": {},
   "source": [
    "### Create a new dataframe based on the list below and call it `precinct_df`\n",
    "\n",
    "```python\n",
    "list_to_use = [{'Precinct' : 'N', 'CustomCode' : 'NPrec'}, \n",
    "               {'Precinct' : 'W', 'CustomCode' : 'WPrec'}, \n",
    "               {'Precinct' : 'E', 'CustomCode' : 'EPrec'}, \n",
    "               {'Precinct' : 'S', 'CustomCode' : 'SPrec'}, \n",
    "               {'Precinct' : 'SW', 'CustomCode' : 'SWPrec'}\n",
    "              ]\n",
    "```"
   ]
  },
  {
   "cell_type": "code",
   "execution_count": null,
   "metadata": {},
   "outputs": [],
   "source": []
  },
  {
   "cell_type": "markdown",
   "metadata": {},
   "source": [
    "### Merge `precinct_df` into `crime_df` based on the `Precinct` column   \n",
    "\n",
    "Run `crime_df[['Report Number', 'Precinct', 'CustomCode']]` to make sure it worked"
   ]
  },
  {
   "cell_type": "code",
   "execution_count": null,
   "metadata": {},
   "outputs": [],
   "source": []
  },
  {
   "cell_type": "markdown",
   "metadata": {},
   "source": [
    "<div style='border-style: solid; padding: 10px; border-color: black; border-width:5px;  text-align: left; margin-top:20px; margin-bottom: 20px;'>\n",
    "<span style='color:black; font-size: 30px; font-weight:bold;'>Part 3: Extra, not required for credit.</span>\n",
    "</div>\n",
    "\n",
    "**Note:** You don't have to complete part 3 if you are handing in the problems for credit.  \n",
    "\n",
    "Pandas is an extremely powerfull library with a lot of depth, too much to all cover in this notebook.  \n",
    "I've added some extra problems below in case you want to get a bit of extra practice in with some more advanced Pandas functionality.\n",
    "\n",
    "------"
   ]
  },
  {
   "cell_type": "markdown",
   "metadata": {},
   "source": [
    "<div style='border-style: solid; padding: 10px; border-color: darkred; border-width:5px;  text-align: left; margin-top: 20px; margin-bottom: 20px;'>\n",
    "<span style='color:black; font-size: 25px; font-weight:bold;'> The below applies to the `crime_df` and `force_df` datasets. </span>\n",
    "</div>"
   ]
  },
  {
   "cell_type": "markdown",
   "metadata": {},
   "source": [
    "### Create (and assign to a new variable) a new dataframe with the total number of `Offense` incidents per `Beat`\n",
    "\n",
    "**Note:** call the dataframe `crime_by_beat_df`"
   ]
  },
  {
   "cell_type": "code",
   "execution_count": null,
   "metadata": {},
   "outputs": [],
   "source": []
  },
  {
   "cell_type": "markdown",
   "metadata": {},
   "source": [
    "### Rename the column with the number of offenses to `numOffense`"
   ]
  },
  {
   "cell_type": "code",
   "execution_count": null,
   "metadata": {},
   "outputs": [],
   "source": []
  },
  {
   "cell_type": "markdown",
   "metadata": {},
   "source": [
    "### Create a new dataframe based on `force_df` with just the force incidents for 2019   \n",
    "**Note:** call the dataframe `force_df_2019`"
   ]
  },
  {
   "cell_type": "code",
   "execution_count": null,
   "metadata": {},
   "outputs": [],
   "source": []
  },
  {
   "cell_type": "markdown",
   "metadata": {},
   "source": [
    "### Add a new column to the `crime_by_beat_df` dataframe with the total number of Police Force incidents for that Police Beat in 2019. "
   ]
  },
  {
   "cell_type": "markdown",
   "metadata": {},
   "source": [
    "*Hint 1:* You need to first convert the Police Force dataframe to contain the number of force incidents per row. (think carefully about the aggregator to use!)  "
   ]
  },
  {
   "cell_type": "code",
   "execution_count": null,
   "metadata": {},
   "outputs": [],
   "source": []
  },
  {
   "cell_type": "markdown",
   "metadata": {},
   "source": [
    "### Create a list of Police Beats that did not have any force incidents in 2019"
   ]
  },
  {
   "cell_type": "code",
   "execution_count": null,
   "metadata": {},
   "outputs": [],
   "source": []
  },
  {
   "cell_type": "markdown",
   "metadata": {},
   "source": [
    "### Replace any missing values in the `crime_by_beat_df` with the value of 0"
   ]
  },
  {
   "cell_type": "code",
   "execution_count": null,
   "metadata": {},
   "outputs": [],
   "source": []
  },
  {
   "cell_type": "markdown",
   "metadata": {},
   "source": [
    "### Sort `crime_by_beat_df` from highest to lowest `numForce` and within that highest to lowest `numOffense`"
   ]
  },
  {
   "cell_type": "code",
   "execution_count": null,
   "metadata": {},
   "outputs": [],
   "source": []
  },
  {
   "attachments": {
    "a654cd06-4bf7-422a-9cb8-0b3ac320af51.png": {
     "image/png": "[encoded data removed]"
    }
   },
   "cell_type": "markdown",
   "metadata": {},
   "source": [
    "## Create a dataframe that shows the number of offenses for each combination of `Offense Parent Group` (index) and `Beat` (columns)   \n",
    "Use the `crime_df` dataframe.  \n",
    "\n",
    "![image.png](attachment:a654cd06-4bf7-422a-9cb8-0b3ac320af51.png)"
   ]
  },
  {
   "cell_type": "code",
   "execution_count": null,
   "metadata": {},
   "outputs": [],
   "source": []
  },
  {
   "attachments": {
    "a69d73d2-4a4f-472a-a9e9-4e05b1df15a3.png": {
     "image/png": "[encoded data removed]"
    }
   },
   "cell_type": "markdown",
   "metadata": {},
   "source": [
    "### Use Seaborn and plot the number of crimes per `Sector` and `Crime Against Category`\n",
    "\n",
    "``` Python\n",
    "import seaborn as sns\n",
    "```\n",
    "\n",
    "![image.png](attachment:a69d73d2-4a4f-472a-a9e9-4e05b1df15a3.png)"
   ]
  },
  {
   "cell_type": "code",
   "execution_count": null,
   "metadata": {},
   "outputs": [],
   "source": []
  },
  {
   "cell_type": "code",
   "execution_count": null,
   "metadata": {},
   "outputs": [],
   "source": []
  }
 ],
 "metadata": {
  "kernelspec": {
   "display_name": "Python 3 (ipykernel)",
   "language": "python",
   "name": "python3"
  },
  "language_info": {
   "codemirror_mode": {
    "name": "ipython",
    "version": 3
   },
   "file_extension": ".py",
   "mimetype": "text/x-python",
   "name": "python",
   "nbconvert_exporter": "python",
   "pygments_lexer": "ipython3",
   "version": "3.9.13"
  }
 },
 "nbformat": 4,
 "nbformat_minor": 4
}
